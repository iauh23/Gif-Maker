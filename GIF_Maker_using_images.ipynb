{
  "cells": [
    {
      "cell_type": "code",
      "source": [
        "import cv2 as cv\n",
        "import imageio.v3 as iio\n",
        "import IPython.display as display"
      ],
      "metadata": {
        "id": "L2i_rYFylEBF"
      },
      "execution_count": null,
      "outputs": []
    },
    {
      "cell_type": "code",
      "source": [
        "images = [\"pic1.jpeg\", \"pic2.png\", \"pic3.png\"]\n",
        "\n",
        "new_images= []\n",
        "\n",
        "for image in images:\n",
        "    img = cv.imread(image)\n",
        "    if img is None:\n",
        "     print(f\"Error check file path again of {img}\")\n",
        "     continue\n",
        "\n",
        "\n",
        "    resized_images = cv.resize(img, (500,600))\n",
        "    new_images.append(resized_images)\n",
        "\n",
        "\n",
        "frames = [cv.cvtColor(frame, cv.COLOR_BGR2RGB) for frame in new_images]"
      ],
      "metadata": {
        "id": "hjsdYiVADjHO"
      },
      "execution_count": null,
      "outputs": []
    },
    {
      "cell_type": "code",
      "source": [
        "iio.imwrite(\"output.gif\", frames, duration=0.4, loop=0)\n",
        "display.Image(filename= \"output.gif\")"
      ],
      "metadata": {
        "id": "YBFxljwdFav7"
      },
      "execution_count": null,
      "outputs": []
    }
  ],
  "metadata": {
    "colab": {
      "provenance": []
    },
    "kernelspec": {
      "display_name": "Python 3",
      "name": "python3"
    }
  },
  "nbformat": 4,
  "nbformat_minor": 0
}