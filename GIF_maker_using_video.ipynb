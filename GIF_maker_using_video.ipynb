{
  "cells": [
    {
      "cell_type": "markdown",
      "metadata": {
        "id": "view-in-github",
        "colab_type": "text"
      },
      "source": [
        "<a href=\"https://colab.research.google.com/github/iauh23/Gif-Maker/blob/main/GIF_maker_using_video.ipynb\" target=\"_parent\"><img src=\"https://colab.research.google.com/assets/colab-badge.svg\" alt=\"Open In Colab\"/></a>"
      ]
    },
    {
      "cell_type": "code",
      "source": [
        "import cv2 as cv\n",
        "import imageio.v3 as iio"
      ],
      "metadata": {
        "id": "72AMzzrh08yh"
      },
      "execution_count": null,
      "outputs": []
    },
    {
      "cell_type": "code",
      "source": [
        "video_path = \"video.mp4\"\n",
        "vid = cv.VideoCapture(video_path)\n",
        "\n",
        "if not vid.isOpened():\n",
        "    print(\"Error! Check file location\")\n",
        "else:\n",
        "    # Get video FPS (frames per second)\n",
        "    fps = vid.get(cv.CAP_PROP_FPS)\n",
        "\n",
        "    print(fps)\n",
        "\n",
        "    # Define start and end times in seconds\n",
        "    start_time = int(input('Enter start time: '))\n",
        "    end_time =   int(input(\"Enter end time: \"))\n",
        "\n",
        "    # Calculate frame numbers\n",
        "    start_frame = int(start_time * fps)\n",
        "    end_frame = int(end_time * fps)\n",
        "\n",
        "    # Jump to the start frame\n",
        "    vid.set(cv.CAP_PROP_POS_FRAMES, start_frame)\n",
        "\n",
        "    frames = []\n",
        "\n",
        "    for frame_num in range(start_frame, end_frame):\n",
        "        success, frame = vid.read()\n",
        "        if not success:\n",
        "            break\n",
        "\n",
        "        # Convert BGR to RGB and add to list\n",
        "        rgb_frame = cv.cvtColor(frame, cv.COLOR_BGR2RGB)\n",
        "        frames.append(rgb_frame)\n",
        "\n",
        "    vid.release()"
      ],
      "metadata": {
        "colab": {
          "base_uri": "https://localhost:8080/"
        },
        "id": "xBJAsh0p1kD6",
        "outputId": "181bb9c2-b40f-4da1-afa2-214fdfda4d7f"
      },
      "execution_count": null,
      "outputs": [
        {
          "name": "stdout",
          "output_type": "stream",
          "text": [
            "30.0\n",
            "Enter start time: 2\n",
            "Enter end time: 4\n"
          ]
        }
      ]
    },
    {
      "cell_type": "code",
      "source": [
        "# Save selected frames as GIF\n",
        "iio.imwrite(\"output.gif\", frames, duration=0.5, loop=0)"
      ],
      "metadata": {
        "id": "26n7bzDy13__"
      },
      "execution_count": null,
      "outputs": []
    }
  ],
  "metadata": {
    "colab": {
      "provenance": [],
      "include_colab_link": true
    },
    "kernelspec": {
      "display_name": "Python 3",
      "name": "python3"
    }
  },
  "nbformat": 4,
  "nbformat_minor": 0
}